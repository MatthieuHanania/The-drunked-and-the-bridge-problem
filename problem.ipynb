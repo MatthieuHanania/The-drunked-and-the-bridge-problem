{
 "cells": [
  {
   "cell_type": "code",
   "execution_count": 1,
   "metadata": {},
   "outputs": [],
   "source": [
    "import random\n",
    "from statistics import mean, pstdev"
   ]
  },
  {
   "cell_type": "code",
   "execution_count": 2,
   "metadata": {},
   "outputs": [],
   "source": [
    "class Person:\n",
    "    def __init__(self,max_step,start_position) -> None:\n",
    "        self.position = start_position\n",
    "        self.moovement = [-1,1]\n",
    "        self.max_step = max_step\n",
    "\n",
    "    def moove(self):\n",
    "\n",
    "        for step in range(self.max_step):\n",
    "            next_moove = random.choice(self.moovement)\n",
    "            self.position = self.position + next_moove\n",
    "\n",
    "            #dead case\n",
    "            if self.position >= 100:\n",
    "                return 1,self.position,step\n",
    "            elif self.position <= 0:\n",
    "                return 2,self.position,step\n",
    "        \n",
    "        return 0,self.position,step\n"
   ]
  },
  {
   "cell_type": "code",
   "execution_count": 41,
   "metadata": {},
   "outputs": [],
   "source": [
    "MAX_STEP = 15000\n",
    "NB_PERSON = 100000\n",
    "START_POSITION = 17\n",
    "\n",
    "morts_droite = []\n",
    "morts_gauche = []\n",
    "positions_vivants=[]\n",
    "\n",
    "for i in range(NB_PERSON):\n",
    "    person = Person(MAX_STEP,START_POSITION)\n",
    "    result = person.moove()\n",
    "    \n",
    "    #survive\n",
    "    if result[0] ==0:\n",
    "        positions_vivants.append(result[1])\n",
    "\n",
    "    #fall on right size\n",
    "    elif result[0] ==1:\n",
    "        morts_droite.append(result[2])\n",
    "    \n",
    "    #fall on left size\n",
    "    elif result[0] ==2:\n",
    "        morts_gauche.append(result[2])\n"
   ]
  },
  {
   "cell_type": "code",
   "execution_count": 42,
   "metadata": {},
   "outputs": [
    {
     "name": "stdout",
     "output_type": "stream",
     "text": [
      "Sur 100000 personnes ayant au maximum 15000 pas:\n",
      "- 17031 personnes sont tombées à droite (coté 100), au bout d'en moyenne de 3220.4 pas\n",
      "- 82916 personnes sont tombées à gauche (coté 0), au bout d'en moyenne de 1043.42 pas\n",
      "- 53 personnes ne sont pas tombées, et sont en moyenne à la position 50.77\n",
      "- le nombre moyen de pas menant à la chute est de 2132 pas\n",
      "- 99.95% des personnes sont tombées, 17.03% à droite, 82.92% à gauche\n",
      "- Sur les 99947 personnes tombées 17.04% l'ont fait à droite, et 82.96% l'ont fait à gauche\n",
      "l'incertitude du nombre de pas moyen avant de tomber est de 4.03%\n"
     ]
    }
   ],
   "source": [
    "def arrondir(nombre):\n",
    "    return round(nombre,2)\n",
    "\n",
    "print(f\"Sur {NB_PERSON} personnes ayant au maximum {MAX_STEP} pas:\")\n",
    "\n",
    "print(f\"- {len(morts_droite)} personnes sont tombées à droite (coté 100), au bout d'en moyenne de {arrondir(mean(morts_droite))} pas\")\n",
    "\n",
    "print(f\"- {len(morts_gauche)} personnes sont tombées à gauche (coté 0), au bout d'en moyenne de {arrondir(mean(morts_gauche))} pas\")\n",
    "\n",
    "print(f\"- {len(positions_vivants)} personnes ne sont pas tombées, et sont en moyenne à la position {arrondir(mean(positions_vivants))}\")\n",
    "\n",
    "moyenne_pas_chute = mean([mean(morts_droite),mean(morts_gauche)])\n",
    "\n",
    "print(f\"- le nombre moyen de pas menant à la chute est de {round(moyenne_pas_chute)} pas\")\n",
    "\n",
    "nb_chutes = len(morts_droite) + len(morts_gauche)\n",
    "\n",
    "print(f\"- {arrondir(nb_chutes/NB_PERSON *100)}% des personnes sont tombées, {arrondir(len(morts_droite)/NB_PERSON*100)}% à droite, {arrondir(len(morts_gauche)/NB_PERSON*100)}% à gauche\")\n",
    "\n",
    "print(f\"- Sur les {nb_chutes} personnes tombées {arrondir(len(morts_droite)/nb_chutes *100)}% l'ont fait à droite, et {arrondir(len(morts_gauche)/nb_chutes *100)}% l'ont fait à gauche\")\n",
    "\n",
    "std_droite = pstdev(morts_droite)\n",
    "nombre_gens_chutent = len(morts_droite) + len(morts_gauche)\n",
    "uncertainity = (1.96*std_droite /nombre_gens_chutent)*100\n",
    "print(f\"l'incertitude du nombre de pas moyen avant de tomber est de {arrondir(uncertainity)}%\")"
   ]
  }
 ],
 "metadata": {
  "kernelspec": {
   "display_name": "Python 3",
   "language": "python",
   "name": "python3"
  },
  "language_info": {
   "codemirror_mode": {
    "name": "ipython",
    "version": 3
   },
   "file_extension": ".py",
   "mimetype": "text/x-python",
   "name": "python",
   "nbconvert_exporter": "python",
   "pygments_lexer": "ipython3",
   "version": "3.11.8"
  }
 },
 "nbformat": 4,
 "nbformat_minor": 2
}
